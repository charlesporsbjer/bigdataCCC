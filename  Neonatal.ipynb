{
 "cells": [
  {
   "cell_type": "code",
   "execution_count": 7,
   "metadata": {},
   "outputs": [],
   "source": [
    "# Import necessary libraries\n",
    "import sqlite3\n",
    "import pandas as pd\n",
    "import matplotlib.pyplot as plt\n"
   ]
  },
  {
   "cell_type": "code",
   "execution_count": 6,
   "metadata": {},
   "outputs": [
    {
     "ename": "DatabaseError",
     "evalue": "Execution failed on sql '\nSELECT \n    Year,\n    SUM(\"Deaths - Neonatal disorders - Sex: Both - Age: All Ages (Number)\",\n    SUM(\"Deaths - Meningitis - Sex: Both - Age: All Ages (Number)\"\n        + \"Deaths - Alzheimer's disease and other dementias - Sex: Both - Age: All Ages (Number)\"\n        + \"Deaths - Parkinson's disease - Sex: Both - Age: All Ages (Number)\"\n        + \"Deaths - Nutritional deficiencies - Sex: Both - Age: All Ages (Number)\"\n        + \"Deaths - Malaria - Sex: Both - Age: All Ages (Number)\"\n        + \"Deaths - Drowning - Sex: Both - Age: All Ages (Number)\"\n        + \"Deaths - Interpersonal violence - Sex: Both - Age: All Ages (Number)\"\n        +\"Deaths - Exposure to forces of nature - Sex: Both - Age: All Ages (Number)\") AS \"Nature Disasters\"\n        + \"Deaths - Maternal disorders - Sex: Both - Age: All Ages (Number)\"\n        + \"Deaths - HIV/AIDS - Sex: Both - Age: All Ages (Number)\"\n        + \"Deaths - Drug use disorders - Sex: Both - Age: All Ages (Number)\"\n        + \"Deaths - Tuberculosis - Sex: Both - Age: All Ages (Number)\"\n        + \"Deaths - Cardiovascular diseases - Sex: Both - Age: All Ages (Number)\"\n        + \"Deaths - Lower respiratory infections - Sex: Both - Age: All Ages (Number)\"\n        + \"Deaths - Alcohol use disorders - Sex: Both - Age: All Ages (Number)\"\n        + \"Deaths - Self-harm - Sex: Both - Age: All Ages (Number)\"\n        + \"Deaths - Diarrheal diseases - Sex: Both - Age: All Ages (Number)\"\n        + \"Deaths - Environmental heat and cold exposure - Sex: Both - Age: All Ages (Number)\"\n        + \"Deaths - Neoplasms - Sex: Both - Age: All Ages (Number)\"\n        + \"Deaths - Conflict and terrorism - Sex: Both - Age: All Ages (Number)\"\n        + \"Deaths - Diabetes mellitus - Sex: Both - Age: All Ages (Number)\"\n        + \"Deaths - Chronic kidney disease - Sex: Both - Age: All Ages (Number)\"\n        + \"Deaths - Poisonings - Sex: Both - Age: All Ages (Number)\"\n        + \"Deaths - Protein-energy malnutrition - Sex: Both - Age: All Ages (Number)\"\n        + \"Deaths - Road injuries - Sex: Both - Age: All Ages (Number)\"\n        + \"Deaths - Chronic respiratory diseases - Sex: Both - Age: All Ages (Number)\"\n        + \"Deaths - Cirrhosis and other chronic liver diseases - Sex: Both - Age: All Ages (Number)\"\n        + \"Deaths - Digestive diseases - Sex: Both - Age: All Ages (Number)\"\n        + \"Deaths - Fire, heat, and hot substances - Sex: Both - Age: All Ages (Number)\"\n        + \"Deaths - Acute hepatitis - Sex: Both - Age: All Ages (Number)\"\n        + \"Deaths - Measles - Sex: Both - Age: All Ages (Number)\"\n    ) AS \"Other Deaths\"\nFROM death_causes\nWHERE Entity = 'World' AND ((Year BETWEEN 1990 AND 1994) OR (Year BETWEEN 2014 AND 2019))\nGROUP BY Year\n': near \"AS\": syntax error",
     "output_type": "error",
     "traceback": [
      "\u001b[0;31m---------------------------------------------------------------------------\u001b[0m",
      "\u001b[0;31mOperationalError\u001b[0m                          Traceback (most recent call last)",
      "File \u001b[0;32m~/Desktop/bigdataCCC/.venv/lib/python3.12/site-packages/pandas/io/sql.py:2674\u001b[0m, in \u001b[0;36mSQLiteDatabase.execute\u001b[0;34m(self, sql, params)\u001b[0m\n\u001b[1;32m   2673\u001b[0m \u001b[38;5;28;01mtry\u001b[39;00m:\n\u001b[0;32m-> 2674\u001b[0m     \u001b[43mcur\u001b[49m\u001b[38;5;241;43m.\u001b[39;49m\u001b[43mexecute\u001b[49m\u001b[43m(\u001b[49m\u001b[43msql\u001b[49m\u001b[43m,\u001b[49m\u001b[43m \u001b[49m\u001b[38;5;241;43m*\u001b[39;49m\u001b[43margs\u001b[49m\u001b[43m)\u001b[49m\n\u001b[1;32m   2675\u001b[0m     \u001b[38;5;28;01mreturn\u001b[39;00m cur\n",
      "\u001b[0;31mOperationalError\u001b[0m: near \"AS\": syntax error",
      "\nThe above exception was the direct cause of the following exception:\n",
      "\u001b[0;31mDatabaseError\u001b[0m                             Traceback (most recent call last)",
      "Cell \u001b[0;32mIn[6], line 46\u001b[0m\n\u001b[1;32m      4\u001b[0m query \u001b[38;5;241m=\u001b[39m \u001b[38;5;124m\"\"\"\u001b[39m\n\u001b[1;32m      5\u001b[0m \u001b[38;5;124mSELECT \u001b[39m\n\u001b[1;32m      6\u001b[0m \u001b[38;5;124m    Year,\u001b[39m\n\u001b[0;32m   (...)\u001b[0m\n\u001b[1;32m     42\u001b[0m \u001b[38;5;124mGROUP BY Year\u001b[39m\n\u001b[1;32m     43\u001b[0m \u001b[38;5;124m\"\"\"\u001b[39m\n\u001b[1;32m     45\u001b[0m \u001b[38;5;66;03m# Execute the SQL query and fetch data into a DataFrame\u001b[39;00m\n\u001b[0;32m---> 46\u001b[0m data \u001b[38;5;241m=\u001b[39m \u001b[43mpd\u001b[49m\u001b[38;5;241;43m.\u001b[39;49m\u001b[43mread_sql\u001b[49m\u001b[43m(\u001b[49m\u001b[43mquery\u001b[49m\u001b[43m,\u001b[49m\u001b[43m \u001b[49m\u001b[43mconn\u001b[49m\u001b[43m)\u001b[49m\n\u001b[1;32m     48\u001b[0m \u001b[38;5;66;03m# Close the database connection\u001b[39;00m\n\u001b[1;32m     49\u001b[0m conn\u001b[38;5;241m.\u001b[39mclose()\n",
      "File \u001b[0;32m~/Desktop/bigdataCCC/.venv/lib/python3.12/site-packages/pandas/io/sql.py:706\u001b[0m, in \u001b[0;36mread_sql\u001b[0;34m(sql, con, index_col, coerce_float, params, parse_dates, columns, chunksize, dtype_backend, dtype)\u001b[0m\n\u001b[1;32m    704\u001b[0m \u001b[38;5;28;01mwith\u001b[39;00m pandasSQL_builder(con) \u001b[38;5;28;01mas\u001b[39;00m pandas_sql:\n\u001b[1;32m    705\u001b[0m     \u001b[38;5;28;01mif\u001b[39;00m \u001b[38;5;28misinstance\u001b[39m(pandas_sql, SQLiteDatabase):\n\u001b[0;32m--> 706\u001b[0m         \u001b[38;5;28;01mreturn\u001b[39;00m \u001b[43mpandas_sql\u001b[49m\u001b[38;5;241;43m.\u001b[39;49m\u001b[43mread_query\u001b[49m\u001b[43m(\u001b[49m\n\u001b[1;32m    707\u001b[0m \u001b[43m            \u001b[49m\u001b[43msql\u001b[49m\u001b[43m,\u001b[49m\n\u001b[1;32m    708\u001b[0m \u001b[43m            \u001b[49m\u001b[43mindex_col\u001b[49m\u001b[38;5;241;43m=\u001b[39;49m\u001b[43mindex_col\u001b[49m\u001b[43m,\u001b[49m\n\u001b[1;32m    709\u001b[0m \u001b[43m            \u001b[49m\u001b[43mparams\u001b[49m\u001b[38;5;241;43m=\u001b[39;49m\u001b[43mparams\u001b[49m\u001b[43m,\u001b[49m\n\u001b[1;32m    710\u001b[0m \u001b[43m            \u001b[49m\u001b[43mcoerce_float\u001b[49m\u001b[38;5;241;43m=\u001b[39;49m\u001b[43mcoerce_float\u001b[49m\u001b[43m,\u001b[49m\n\u001b[1;32m    711\u001b[0m \u001b[43m            \u001b[49m\u001b[43mparse_dates\u001b[49m\u001b[38;5;241;43m=\u001b[39;49m\u001b[43mparse_dates\u001b[49m\u001b[43m,\u001b[49m\n\u001b[1;32m    712\u001b[0m \u001b[43m            \u001b[49m\u001b[43mchunksize\u001b[49m\u001b[38;5;241;43m=\u001b[39;49m\u001b[43mchunksize\u001b[49m\u001b[43m,\u001b[49m\n\u001b[1;32m    713\u001b[0m \u001b[43m            \u001b[49m\u001b[43mdtype_backend\u001b[49m\u001b[38;5;241;43m=\u001b[39;49m\u001b[43mdtype_backend\u001b[49m\u001b[43m,\u001b[49m\n\u001b[1;32m    714\u001b[0m \u001b[43m            \u001b[49m\u001b[43mdtype\u001b[49m\u001b[38;5;241;43m=\u001b[39;49m\u001b[43mdtype\u001b[49m\u001b[43m,\u001b[49m\n\u001b[1;32m    715\u001b[0m \u001b[43m        \u001b[49m\u001b[43m)\u001b[49m\n\u001b[1;32m    717\u001b[0m     \u001b[38;5;28;01mtry\u001b[39;00m:\n\u001b[1;32m    718\u001b[0m         _is_table_name \u001b[38;5;241m=\u001b[39m pandas_sql\u001b[38;5;241m.\u001b[39mhas_table(sql)\n",
      "File \u001b[0;32m~/Desktop/bigdataCCC/.venv/lib/python3.12/site-packages/pandas/io/sql.py:2738\u001b[0m, in \u001b[0;36mSQLiteDatabase.read_query\u001b[0;34m(self, sql, index_col, coerce_float, parse_dates, params, chunksize, dtype, dtype_backend)\u001b[0m\n\u001b[1;32m   2727\u001b[0m \u001b[38;5;28;01mdef\u001b[39;00m \u001b[38;5;21mread_query\u001b[39m(\n\u001b[1;32m   2728\u001b[0m     \u001b[38;5;28mself\u001b[39m,\n\u001b[1;32m   2729\u001b[0m     sql,\n\u001b[0;32m   (...)\u001b[0m\n\u001b[1;32m   2736\u001b[0m     dtype_backend: DtypeBackend \u001b[38;5;241m|\u001b[39m Literal[\u001b[38;5;124m\"\u001b[39m\u001b[38;5;124mnumpy\u001b[39m\u001b[38;5;124m\"\u001b[39m] \u001b[38;5;241m=\u001b[39m \u001b[38;5;124m\"\u001b[39m\u001b[38;5;124mnumpy\u001b[39m\u001b[38;5;124m\"\u001b[39m,\n\u001b[1;32m   2737\u001b[0m ) \u001b[38;5;241m-\u001b[39m\u001b[38;5;241m>\u001b[39m DataFrame \u001b[38;5;241m|\u001b[39m Iterator[DataFrame]:\n\u001b[0;32m-> 2738\u001b[0m     cursor \u001b[38;5;241m=\u001b[39m \u001b[38;5;28;43mself\u001b[39;49m\u001b[38;5;241;43m.\u001b[39;49m\u001b[43mexecute\u001b[49m\u001b[43m(\u001b[49m\u001b[43msql\u001b[49m\u001b[43m,\u001b[49m\u001b[43m \u001b[49m\u001b[43mparams\u001b[49m\u001b[43m)\u001b[49m\n\u001b[1;32m   2739\u001b[0m     columns \u001b[38;5;241m=\u001b[39m [col_desc[\u001b[38;5;241m0\u001b[39m] \u001b[38;5;28;01mfor\u001b[39;00m col_desc \u001b[38;5;129;01min\u001b[39;00m cursor\u001b[38;5;241m.\u001b[39mdescription]\n\u001b[1;32m   2741\u001b[0m     \u001b[38;5;28;01mif\u001b[39;00m chunksize \u001b[38;5;129;01mis\u001b[39;00m \u001b[38;5;129;01mnot\u001b[39;00m \u001b[38;5;28;01mNone\u001b[39;00m:\n",
      "File \u001b[0;32m~/Desktop/bigdataCCC/.venv/lib/python3.12/site-packages/pandas/io/sql.py:2686\u001b[0m, in \u001b[0;36mSQLiteDatabase.execute\u001b[0;34m(self, sql, params)\u001b[0m\n\u001b[1;32m   2683\u001b[0m     \u001b[38;5;28;01mraise\u001b[39;00m ex \u001b[38;5;28;01mfrom\u001b[39;00m \u001b[38;5;21;01minner_exc\u001b[39;00m\n\u001b[1;32m   2685\u001b[0m ex \u001b[38;5;241m=\u001b[39m DatabaseError(\u001b[38;5;124mf\u001b[39m\u001b[38;5;124m\"\u001b[39m\u001b[38;5;124mExecution failed on sql \u001b[39m\u001b[38;5;124m'\u001b[39m\u001b[38;5;132;01m{\u001b[39;00msql\u001b[38;5;132;01m}\u001b[39;00m\u001b[38;5;124m'\u001b[39m\u001b[38;5;124m: \u001b[39m\u001b[38;5;132;01m{\u001b[39;00mexc\u001b[38;5;132;01m}\u001b[39;00m\u001b[38;5;124m\"\u001b[39m)\n\u001b[0;32m-> 2686\u001b[0m \u001b[38;5;28;01mraise\u001b[39;00m ex \u001b[38;5;28;01mfrom\u001b[39;00m \u001b[38;5;21;01mexc\u001b[39;00m\n",
      "\u001b[0;31mDatabaseError\u001b[0m: Execution failed on sql '\nSELECT \n    Year,\n    SUM(\"Deaths - Neonatal disorders - Sex: Both - Age: All Ages (Number)\",\n    SUM(\"Deaths - Meningitis - Sex: Both - Age: All Ages (Number)\"\n        + \"Deaths - Alzheimer's disease and other dementias - Sex: Both - Age: All Ages (Number)\"\n        + \"Deaths - Parkinson's disease - Sex: Both - Age: All Ages (Number)\"\n        + \"Deaths - Nutritional deficiencies - Sex: Both - Age: All Ages (Number)\"\n        + \"Deaths - Malaria - Sex: Both - Age: All Ages (Number)\"\n        + \"Deaths - Drowning - Sex: Both - Age: All Ages (Number)\"\n        + \"Deaths - Interpersonal violence - Sex: Both - Age: All Ages (Number)\"\n        +\"Deaths - Exposure to forces of nature - Sex: Both - Age: All Ages (Number)\") AS \"Nature Disasters\"\n        + \"Deaths - Maternal disorders - Sex: Both - Age: All Ages (Number)\"\n        + \"Deaths - HIV/AIDS - Sex: Both - Age: All Ages (Number)\"\n        + \"Deaths - Drug use disorders - Sex: Both - Age: All Ages (Number)\"\n        + \"Deaths - Tuberculosis - Sex: Both - Age: All Ages (Number)\"\n        + \"Deaths - Cardiovascular diseases - Sex: Both - Age: All Ages (Number)\"\n        + \"Deaths - Lower respiratory infections - Sex: Both - Age: All Ages (Number)\"\n        + \"Deaths - Alcohol use disorders - Sex: Both - Age: All Ages (Number)\"\n        + \"Deaths - Self-harm - Sex: Both - Age: All Ages (Number)\"\n        + \"Deaths - Diarrheal diseases - Sex: Both - Age: All Ages (Number)\"\n        + \"Deaths - Environmental heat and cold exposure - Sex: Both - Age: All Ages (Number)\"\n        + \"Deaths - Neoplasms - Sex: Both - Age: All Ages (Number)\"\n        + \"Deaths - Conflict and terrorism - Sex: Both - Age: All Ages (Number)\"\n        + \"Deaths - Diabetes mellitus - Sex: Both - Age: All Ages (Number)\"\n        + \"Deaths - Chronic kidney disease - Sex: Both - Age: All Ages (Number)\"\n        + \"Deaths - Poisonings - Sex: Both - Age: All Ages (Number)\"\n        + \"Deaths - Protein-energy malnutrition - Sex: Both - Age: All Ages (Number)\"\n        + \"Deaths - Road injuries - Sex: Both - Age: All Ages (Number)\"\n        + \"Deaths - Chronic respiratory diseases - Sex: Both - Age: All Ages (Number)\"\n        + \"Deaths - Cirrhosis and other chronic liver diseases - Sex: Both - Age: All Ages (Number)\"\n        + \"Deaths - Digestive diseases - Sex: Both - Age: All Ages (Number)\"\n        + \"Deaths - Fire, heat, and hot substances - Sex: Both - Age: All Ages (Number)\"\n        + \"Deaths - Acute hepatitis - Sex: Both - Age: All Ages (Number)\"\n        + \"Deaths - Measles - Sex: Both - Age: All Ages (Number)\"\n    ) AS \"Other Deaths\"\nFROM death_causes\nWHERE Entity = 'World' AND ((Year BETWEEN 1990 AND 1994) OR (Year BETWEEN 2014 AND 2019))\nGROUP BY Year\n': near \"AS\": syntax error"
     ]
    }
   ],
   "source": [
    "conn = sqlite3.connect('deathdata.db')\n",
    "\n",
    "# Define the SQL query\n",
    "query = \"\"\"\n",
    "SELECT \n",
    "    Year,\n",
    "    SUM(\"Deaths - Neonatal disorders - Sex: Both - Age: All Ages (Number)\",\n",
    "    SUM(\"Deaths - Meningitis - Sex: Both - Age: All Ages (Number)\"\n",
    "        + \"Deaths - Alzheimer's disease and other dementias - Sex: Both - Age: All Ages (Number)\"\n",
    "        + \"Deaths - Parkinson's disease - Sex: Both - Age: All Ages (Number)\"\n",
    "        + \"Deaths - Nutritional deficiencies - Sex: Both - Age: All Ages (Number)\"\n",
    "        + \"Deaths - Malaria - Sex: Both - Age: All Ages (Number)\"\n",
    "        + \"Deaths - Drowning - Sex: Both - Age: All Ages (Number)\"\n",
    "        + \"Deaths - Interpersonal violence - Sex: Both - Age: All Ages (Number)\"\n",
    "        +\"Deaths - Exposure to forces of nature - Sex: Both - Age: All Ages (Number)\") AS \"Nature Disasters\"\n",
    "        + \"Deaths - Maternal disorders - Sex: Both - Age: All Ages (Number)\"\n",
    "        + \"Deaths - HIV/AIDS - Sex: Both - Age: All Ages (Number)\"\n",
    "        + \"Deaths - Drug use disorders - Sex: Both - Age: All Ages (Number)\"\n",
    "        + \"Deaths - Tuberculosis - Sex: Both - Age: All Ages (Number)\"\n",
    "        + \"Deaths - Cardiovascular diseases - Sex: Both - Age: All Ages (Number)\"\n",
    "        + \"Deaths - Lower respiratory infections - Sex: Both - Age: All Ages (Number)\"\n",
    "        + \"Deaths - Alcohol use disorders - Sex: Both - Age: All Ages (Number)\"\n",
    "        + \"Deaths - Self-harm - Sex: Both - Age: All Ages (Number)\"\n",
    "        + \"Deaths - Diarrheal diseases - Sex: Both - Age: All Ages (Number)\"\n",
    "        + \"Deaths - Environmental heat and cold exposure - Sex: Both - Age: All Ages (Number)\"\n",
    "        + \"Deaths - Neoplasms - Sex: Both - Age: All Ages (Number)\"\n",
    "        + \"Deaths - Conflict and terrorism - Sex: Both - Age: All Ages (Number)\"\n",
    "        + \"Deaths - Diabetes mellitus - Sex: Both - Age: All Ages (Number)\"\n",
    "        + \"Deaths - Chronic kidney disease - Sex: Both - Age: All Ages (Number)\"\n",
    "        + \"Deaths - Poisonings - Sex: Both - Age: All Ages (Number)\"\n",
    "        + \"Deaths - Protein-energy malnutrition - Sex: Both - Age: All Ages (Number)\"\n",
    "        + \"Deaths - Road injuries - Sex: Both - Age: All Ages (Number)\"\n",
    "        + \"Deaths - Chronic respiratory diseases - Sex: Both - Age: All Ages (Number)\"\n",
    "        + \"Deaths - Cirrhosis and other chronic liver diseases - Sex: Both - Age: All Ages (Number)\"\n",
    "        + \"Deaths - Digestive diseases - Sex: Both - Age: All Ages (Number)\"\n",
    "        + \"Deaths - Fire, heat, and hot substances - Sex: Both - Age: All Ages (Number)\"\n",
    "        + \"Deaths - Acute hepatitis - Sex: Both - Age: All Ages (Number)\"\n",
    "        + \"Deaths - Measles - Sex: Both - Age: All Ages (Number)\"\n",
    "    ) AS \"Other Deaths\"\n",
    "FROM death_causes\n",
    "WHERE Entity = 'World' AND ((Year BETWEEN 1990 AND 1994) OR (Year BETWEEN 2014 AND 2019))\n",
    "GROUP BY Year\n",
    "\"\"\"\n",
    "\n",
    "# Execute the SQL query and fetch data into a DataFrame\n",
    "data = pd.read_sql(query, conn)\n",
    "\n",
    "# Close the database connection\n",
    "conn.close()\n",
    "\n",
    "# Display the first few rows of the DataFrame to ensure it loaded correctly\n"
   ]
  },
  {
   "cell_type": "code",
   "execution_count": null,
   "metadata": {},
   "outputs": [],
   "source": [
    "# Process data to sum up the two periods\n",
    "result = data.groupby((data['Year'] < 2000) * 1).sum()\n",
    "result.index = ['1990-1994', '2014-2019']\n",
    "\n",
    "# Data for plotting\n",
    "categories = ['Nature Disasters', 'Other Deaths']\n",
    "\n",
    "print(data.head())\n",
    "\n",
    "print(result)"
   ]
  }
 ],
 "metadata": {
  "kernelspec": {
   "display_name": "system-integration-training-ground-g4vt9pt9-py3.12",
   "language": "python",
   "name": "python3"
  },
  "language_info": {
   "codemirror_mode": {
    "name": "ipython",
    "version": 3
   },
   "file_extension": ".py",
   "mimetype": "text/x-python",
   "name": "python",
   "nbconvert_exporter": "python",
   "pygments_lexer": "ipython3",
   "version": "3.12.3"
  }
 },
 "nbformat": 4,
 "nbformat_minor": 2
}
